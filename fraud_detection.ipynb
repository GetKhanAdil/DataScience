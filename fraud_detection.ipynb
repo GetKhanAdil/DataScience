{
  "cells": [
    {
      "cell_type": "markdown",
      "metadata": {
        "id": "view-in-github",
        "colab_type": "text"
      },
      "source": [
        "<a href=\"https://colab.research.google.com/github/GetKhanAdil/DataScience/blob/main/fraud_detection.ipynb\" target=\"_parent\"><img src=\"https://colab.research.google.com/assets/colab-badge.svg\" alt=\"Open In Colab\"/></a>"
      ]
    },
    {
      "cell_type": "code",
      "execution_count": null,
      "id": "5a98868d",
      "metadata": {
        "id": "5a98868d"
      },
      "outputs": [],
      "source": [
        "import pandas as pd\n",
        "import numpy as np\n",
        "import matplotlib.pyplot as plt\n",
        "import seaborn as sns\n",
        "from statsmodels.stats.outliers_influence import variance_inflation_factor"
      ]
    },
    {
      "cell_type": "code",
      "execution_count": null,
      "id": "61c4a73a",
      "metadata": {
        "id": "61c4a73a",
        "outputId": "8723efaf-6b87-40b0-81c5-efc6f9961800"
      },
      "outputs": [
        {
          "data": {
            "text/html": [
              "<div>\n",
              "<style scoped>\n",
              "    .dataframe tbody tr th:only-of-type {\n",
              "        vertical-align: middle;\n",
              "    }\n",
              "\n",
              "    .dataframe tbody tr th {\n",
              "        vertical-align: top;\n",
              "    }\n",
              "\n",
              "    .dataframe thead th {\n",
              "        text-align: right;\n",
              "    }\n",
              "</style>\n",
              "<table border=\"1\" class=\"dataframe\">\n",
              "  <thead>\n",
              "    <tr style=\"text-align: right;\">\n",
              "      <th></th>\n",
              "      <th>step</th>\n",
              "      <th>type</th>\n",
              "      <th>amount</th>\n",
              "      <th>nameOrig</th>\n",
              "      <th>oldbalanceOrg</th>\n",
              "      <th>newbalanceOrig</th>\n",
              "      <th>nameDest</th>\n",
              "      <th>oldbalanceDest</th>\n",
              "      <th>newbalanceDest</th>\n",
              "      <th>isFraud</th>\n",
              "      <th>isFlaggedFraud</th>\n",
              "    </tr>\n",
              "  </thead>\n",
              "  <tbody>\n",
              "    <tr>\n",
              "      <th>0</th>\n",
              "      <td>1</td>\n",
              "      <td>PAYMENT</td>\n",
              "      <td>9839.64</td>\n",
              "      <td>C1231006815</td>\n",
              "      <td>170136.0</td>\n",
              "      <td>160296.36</td>\n",
              "      <td>M1979787155</td>\n",
              "      <td>0.0</td>\n",
              "      <td>0.0</td>\n",
              "      <td>0</td>\n",
              "      <td>0</td>\n",
              "    </tr>\n",
              "    <tr>\n",
              "      <th>1</th>\n",
              "      <td>1</td>\n",
              "      <td>PAYMENT</td>\n",
              "      <td>1864.28</td>\n",
              "      <td>C1666544295</td>\n",
              "      <td>21249.0</td>\n",
              "      <td>19384.72</td>\n",
              "      <td>M2044282225</td>\n",
              "      <td>0.0</td>\n",
              "      <td>0.0</td>\n",
              "      <td>0</td>\n",
              "      <td>0</td>\n",
              "    </tr>\n",
              "    <tr>\n",
              "      <th>2</th>\n",
              "      <td>1</td>\n",
              "      <td>TRANSFER</td>\n",
              "      <td>181.00</td>\n",
              "      <td>C1305486145</td>\n",
              "      <td>181.0</td>\n",
              "      <td>0.00</td>\n",
              "      <td>C553264065</td>\n",
              "      <td>0.0</td>\n",
              "      <td>0.0</td>\n",
              "      <td>1</td>\n",
              "      <td>0</td>\n",
              "    </tr>\n",
              "    <tr>\n",
              "      <th>3</th>\n",
              "      <td>1</td>\n",
              "      <td>CASH_OUT</td>\n",
              "      <td>181.00</td>\n",
              "      <td>C840083671</td>\n",
              "      <td>181.0</td>\n",
              "      <td>0.00</td>\n",
              "      <td>C38997010</td>\n",
              "      <td>21182.0</td>\n",
              "      <td>0.0</td>\n",
              "      <td>1</td>\n",
              "      <td>0</td>\n",
              "    </tr>\n",
              "    <tr>\n",
              "      <th>4</th>\n",
              "      <td>1</td>\n",
              "      <td>PAYMENT</td>\n",
              "      <td>11668.14</td>\n",
              "      <td>C2048537720</td>\n",
              "      <td>41554.0</td>\n",
              "      <td>29885.86</td>\n",
              "      <td>M1230701703</td>\n",
              "      <td>0.0</td>\n",
              "      <td>0.0</td>\n",
              "      <td>0</td>\n",
              "      <td>0</td>\n",
              "    </tr>\n",
              "  </tbody>\n",
              "</table>\n",
              "</div>"
            ],
            "text/plain": [
              "   step      type    amount     nameOrig  oldbalanceOrg  newbalanceOrig  \\\n",
              "0     1   PAYMENT   9839.64  C1231006815       170136.0       160296.36   \n",
              "1     1   PAYMENT   1864.28  C1666544295        21249.0        19384.72   \n",
              "2     1  TRANSFER    181.00  C1305486145          181.0            0.00   \n",
              "3     1  CASH_OUT    181.00   C840083671          181.0            0.00   \n",
              "4     1   PAYMENT  11668.14  C2048537720        41554.0        29885.86   \n",
              "\n",
              "      nameDest  oldbalanceDest  newbalanceDest  isFraud  isFlaggedFraud  \n",
              "0  M1979787155             0.0             0.0        0               0  \n",
              "1  M2044282225             0.0             0.0        0               0  \n",
              "2   C553264065             0.0             0.0        1               0  \n",
              "3    C38997010         21182.0             0.0        1               0  \n",
              "4  M1230701703             0.0             0.0        0               0  "
            ]
          },
          "execution_count": 2,
          "metadata": {},
          "output_type": "execute_result"
        }
      ],
      "source": [
        "fraud = pd.read_csv(\"D:/Phone data/Fraud.csv\")\n",
        "fraud.head()"
      ]
    },
    {
      "cell_type": "markdown",
      "id": "3ccddbb8",
      "metadata": {
        "id": "3ccddbb8"
      },
      "source": []
    },
    {
      "cell_type": "markdown",
      "id": "2805a73f",
      "metadata": {
        "id": "2805a73f"
      },
      "source": [
        "## 1. Data cleaning including missing values, outliers and multi-collinearity."
      ]
    },
    {
      "cell_type": "code",
      "execution_count": null,
      "id": "00378366",
      "metadata": {
        "id": "00378366",
        "outputId": "7588a866-59c4-411c-8203-318c8b8fec09"
      },
      "outputs": [
        {
          "data": {
            "text/plain": [
              "step              0\n",
              "type              0\n",
              "amount            0\n",
              "nameOrig          0\n",
              "oldbalanceOrg     0\n",
              "newbalanceOrig    0\n",
              "nameDest          0\n",
              "oldbalanceDest    0\n",
              "newbalanceDest    0\n",
              "isFraud           0\n",
              "isFlaggedFraud    0\n",
              "dtype: int64"
            ]
          },
          "execution_count": 3,
          "metadata": {},
          "output_type": "execute_result"
        }
      ],
      "source": [
        "fraud.isna().sum()"
      ]
    },
    {
      "cell_type": "markdown",
      "id": "a0193942",
      "metadata": {
        "id": "a0193942"
      },
      "source": [
        "- As we can see there are no missing values in Dataset but that does not mean we have no null values becaue there can be 0 values in some variables.\n",
        "- There is no point in checking outliers because it is finacial data where bank balance can be any real number value so there is really no parameter where we can scale it."
      ]
    },
    {
      "cell_type": "code",
      "execution_count": null,
      "id": "65d439cc",
      "metadata": {
        "id": "65d439cc",
        "outputId": "a135fc42-ab99-4eac-a540-a5c6bc895211"
      },
      "outputs": [
        {
          "name": "stdout",
          "output_type": "stream",
          "text": [
            "<class 'pandas.core.frame.DataFrame'>\n",
            "RangeIndex: 6362620 entries, 0 to 6362619\n",
            "Data columns (total 11 columns):\n",
            " #   Column          Dtype  \n",
            "---  ------          -----  \n",
            " 0   step            int64  \n",
            " 1   type            object \n",
            " 2   amount          float64\n",
            " 3   nameOrig        object \n",
            " 4   oldbalanceOrg   float64\n",
            " 5   newbalanceOrig  float64\n",
            " 6   nameDest        object \n",
            " 7   oldbalanceDest  float64\n",
            " 8   newbalanceDest  float64\n",
            " 9   isFraud         int64  \n",
            " 10  isFlaggedFraud  int64  \n",
            "dtypes: float64(5), int64(3), object(3)\n",
            "memory usage: 534.0+ MB\n"
          ]
        }
      ],
      "source": [
        "fraud.info()"
      ]
    },
    {
      "cell_type": "markdown",
      "id": "f0239aa8",
      "metadata": {
        "id": "f0239aa8"
      },
      "source": [
        "# "
      ]
    },
    {
      "cell_type": "markdown",
      "id": "d17007a2",
      "metadata": {
        "id": "d17007a2"
      },
      "source": [
        "CHANGING THE TYPE SO THAT WE CAN REDUCE THE SIZE.."
      ]
    },
    {
      "cell_type": "code",
      "execution_count": null,
      "id": "1d874ec9",
      "metadata": {
        "id": "1d874ec9"
      },
      "outputs": [],
      "source": [
        "fraud.isFlaggedFraud = fraud.isFlaggedFraud.astype(\"int8\")"
      ]
    },
    {
      "cell_type": "code",
      "execution_count": null,
      "id": "02644d58",
      "metadata": {
        "id": "02644d58"
      },
      "outputs": [],
      "source": [
        "fraud.isFraud = fraud.isFraud.astype(\"int8\")"
      ]
    },
    {
      "cell_type": "code",
      "execution_count": null,
      "id": "18b1dca8",
      "metadata": {
        "id": "18b1dca8"
      },
      "outputs": [],
      "source": [
        "fraud.step = fraud.step.astype(\"int16\")"
      ]
    },
    {
      "cell_type": "code",
      "execution_count": null,
      "id": "df421165",
      "metadata": {
        "id": "df421165",
        "outputId": "fc279618-11a5-4071-d189-bd2ba40a4b3e"
      },
      "outputs": [
        {
          "name": "stdout",
          "output_type": "stream",
          "text": [
            "<class 'pandas.core.frame.DataFrame'>\n",
            "RangeIndex: 6362620 entries, 0 to 6362619\n",
            "Data columns (total 11 columns):\n",
            " #   Column          Dtype  \n",
            "---  ------          -----  \n",
            " 0   step            int16  \n",
            " 1   type            object \n",
            " 2   amount          float64\n",
            " 3   nameOrig        object \n",
            " 4   oldbalanceOrg   float64\n",
            " 5   newbalanceOrig  float64\n",
            " 6   nameDest        object \n",
            " 7   oldbalanceDest  float64\n",
            " 8   newbalanceDest  float64\n",
            " 9   isFraud         int8   \n",
            " 10  isFlaggedFraud  int8   \n",
            "dtypes: float64(5), int16(1), int8(2), object(3)\n",
            "memory usage: 412.6+ MB\n"
          ]
        }
      ],
      "source": [
        "fraud.info()"
      ]
    },
    {
      "cell_type": "code",
      "execution_count": null,
      "id": "0434830d",
      "metadata": {
        "id": "0434830d"
      },
      "outputs": [],
      "source": []
    },
    {
      "cell_type": "code",
      "execution_count": null,
      "id": "9ba416d1",
      "metadata": {
        "id": "9ba416d1",
        "outputId": "25beb852-5842-4179-ab47-dc9c0f39351e"
      },
      "outputs": [
        {
          "data": {
            "text/html": [
              "<div>\n",
              "<style scoped>\n",
              "    .dataframe tbody tr th:only-of-type {\n",
              "        vertical-align: middle;\n",
              "    }\n",
              "\n",
              "    .dataframe tbody tr th {\n",
              "        vertical-align: top;\n",
              "    }\n",
              "\n",
              "    .dataframe thead th {\n",
              "        text-align: right;\n",
              "    }\n",
              "</style>\n",
              "<table border=\"1\" class=\"dataframe\">\n",
              "  <thead>\n",
              "    <tr style=\"text-align: right;\">\n",
              "      <th></th>\n",
              "      <th>step</th>\n",
              "      <th>amount</th>\n",
              "      <th>oldbalanceOrg</th>\n",
              "      <th>newbalanceOrig</th>\n",
              "      <th>oldbalanceDest</th>\n",
              "      <th>newbalanceDest</th>\n",
              "      <th>isFraud</th>\n",
              "      <th>isFlaggedFraud</th>\n",
              "    </tr>\n",
              "  </thead>\n",
              "  <tbody>\n",
              "    <tr>\n",
              "      <th>count</th>\n",
              "      <td>6.362620e+06</td>\n",
              "      <td>6.362620e+06</td>\n",
              "      <td>6.362620e+06</td>\n",
              "      <td>6.362620e+06</td>\n",
              "      <td>6.362620e+06</td>\n",
              "      <td>6.362620e+06</td>\n",
              "      <td>6.362620e+06</td>\n",
              "      <td>6.362620e+06</td>\n",
              "    </tr>\n",
              "    <tr>\n",
              "      <th>mean</th>\n",
              "      <td>2.433972e+02</td>\n",
              "      <td>1.798619e+05</td>\n",
              "      <td>8.338831e+05</td>\n",
              "      <td>8.551137e+05</td>\n",
              "      <td>1.100702e+06</td>\n",
              "      <td>1.224996e+06</td>\n",
              "      <td>1.290820e-03</td>\n",
              "      <td>2.514687e-06</td>\n",
              "    </tr>\n",
              "    <tr>\n",
              "      <th>std</th>\n",
              "      <td>1.423320e+02</td>\n",
              "      <td>6.038582e+05</td>\n",
              "      <td>2.888243e+06</td>\n",
              "      <td>2.924049e+06</td>\n",
              "      <td>3.399180e+06</td>\n",
              "      <td>3.674129e+06</td>\n",
              "      <td>3.590480e-02</td>\n",
              "      <td>1.585775e-03</td>\n",
              "    </tr>\n",
              "    <tr>\n",
              "      <th>min</th>\n",
              "      <td>1.000000e+00</td>\n",
              "      <td>0.000000e+00</td>\n",
              "      <td>0.000000e+00</td>\n",
              "      <td>0.000000e+00</td>\n",
              "      <td>0.000000e+00</td>\n",
              "      <td>0.000000e+00</td>\n",
              "      <td>0.000000e+00</td>\n",
              "      <td>0.000000e+00</td>\n",
              "    </tr>\n",
              "    <tr>\n",
              "      <th>25%</th>\n",
              "      <td>1.560000e+02</td>\n",
              "      <td>1.338957e+04</td>\n",
              "      <td>0.000000e+00</td>\n",
              "      <td>0.000000e+00</td>\n",
              "      <td>0.000000e+00</td>\n",
              "      <td>0.000000e+00</td>\n",
              "      <td>0.000000e+00</td>\n",
              "      <td>0.000000e+00</td>\n",
              "    </tr>\n",
              "    <tr>\n",
              "      <th>50%</th>\n",
              "      <td>2.390000e+02</td>\n",
              "      <td>7.487194e+04</td>\n",
              "      <td>1.420800e+04</td>\n",
              "      <td>0.000000e+00</td>\n",
              "      <td>1.327057e+05</td>\n",
              "      <td>2.146614e+05</td>\n",
              "      <td>0.000000e+00</td>\n",
              "      <td>0.000000e+00</td>\n",
              "    </tr>\n",
              "    <tr>\n",
              "      <th>75%</th>\n",
              "      <td>3.350000e+02</td>\n",
              "      <td>2.087215e+05</td>\n",
              "      <td>1.073152e+05</td>\n",
              "      <td>1.442584e+05</td>\n",
              "      <td>9.430367e+05</td>\n",
              "      <td>1.111909e+06</td>\n",
              "      <td>0.000000e+00</td>\n",
              "      <td>0.000000e+00</td>\n",
              "    </tr>\n",
              "    <tr>\n",
              "      <th>max</th>\n",
              "      <td>7.430000e+02</td>\n",
              "      <td>9.244552e+07</td>\n",
              "      <td>5.958504e+07</td>\n",
              "      <td>4.958504e+07</td>\n",
              "      <td>3.560159e+08</td>\n",
              "      <td>3.561793e+08</td>\n",
              "      <td>1.000000e+00</td>\n",
              "      <td>1.000000e+00</td>\n",
              "    </tr>\n",
              "  </tbody>\n",
              "</table>\n",
              "</div>"
            ],
            "text/plain": [
              "               step        amount  oldbalanceOrg  newbalanceOrig  \\\n",
              "count  6.362620e+06  6.362620e+06   6.362620e+06    6.362620e+06   \n",
              "mean   2.433972e+02  1.798619e+05   8.338831e+05    8.551137e+05   \n",
              "std    1.423320e+02  6.038582e+05   2.888243e+06    2.924049e+06   \n",
              "min    1.000000e+00  0.000000e+00   0.000000e+00    0.000000e+00   \n",
              "25%    1.560000e+02  1.338957e+04   0.000000e+00    0.000000e+00   \n",
              "50%    2.390000e+02  7.487194e+04   1.420800e+04    0.000000e+00   \n",
              "75%    3.350000e+02  2.087215e+05   1.073152e+05    1.442584e+05   \n",
              "max    7.430000e+02  9.244552e+07   5.958504e+07    4.958504e+07   \n",
              "\n",
              "       oldbalanceDest  newbalanceDest       isFraud  isFlaggedFraud  \n",
              "count    6.362620e+06    6.362620e+06  6.362620e+06    6.362620e+06  \n",
              "mean     1.100702e+06    1.224996e+06  1.290820e-03    2.514687e-06  \n",
              "std      3.399180e+06    3.674129e+06  3.590480e-02    1.585775e-03  \n",
              "min      0.000000e+00    0.000000e+00  0.000000e+00    0.000000e+00  \n",
              "25%      0.000000e+00    0.000000e+00  0.000000e+00    0.000000e+00  \n",
              "50%      1.327057e+05    2.146614e+05  0.000000e+00    0.000000e+00  \n",
              "75%      9.430367e+05    1.111909e+06  0.000000e+00    0.000000e+00  \n",
              "max      3.560159e+08    3.561793e+08  1.000000e+00    1.000000e+00  "
            ]
          },
          "execution_count": 9,
          "metadata": {},
          "output_type": "execute_result"
        }
      ],
      "source": [
        "fraud.describe()"
      ]
    },
    {
      "cell_type": "code",
      "execution_count": null,
      "id": "677be794",
      "metadata": {
        "id": "677be794",
        "outputId": "b20a347e-7212-44bb-bc42-619d42081994"
      },
      "outputs": [
        {
          "data": {
            "text/plain": [
              "0    6354407\n",
              "1       8213\n",
              "Name: isFraud, dtype: int64"
            ]
          },
          "execution_count": 10,
          "metadata": {},
          "output_type": "execute_result"
        }
      ],
      "source": [
        "fraud.isFraud.value_counts()"
      ]
    },
    {
      "cell_type": "code",
      "execution_count": null,
      "id": "0398592f",
      "metadata": {
        "id": "0398592f",
        "outputId": "d06f89a5-9fb9-4d8d-c46c-83a4410e1bef"
      },
      "outputs": [
        {
          "data": {
            "text/plain": [
              "0.12908204481801522"
            ]
          },
          "execution_count": 11,
          "metadata": {},
          "output_type": "execute_result"
        }
      ],
      "source": [
        "(8213/(6354407+8213)*100)"
      ]
    },
    {
      "cell_type": "markdown",
      "id": "94fbcd82",
      "metadata": {
        "id": "94fbcd82"
      },
      "source": [
        "Around .12% of transaction are marked as fraud"
      ]
    },
    {
      "cell_type": "code",
      "execution_count": null,
      "id": "8cb342ff",
      "metadata": {
        "id": "8cb342ff",
        "outputId": "783429de-ee12-48ac-ca9a-e03b41567286"
      },
      "outputs": [
        {
          "data": {
            "text/plain": [
              "0    6362604\n",
              "1         16\n",
              "Name: isFlaggedFraud, dtype: int64"
            ]
          },
          "execution_count": 12,
          "metadata": {},
          "output_type": "execute_result"
        }
      ],
      "source": [
        "fraud.isFlaggedFraud.value_counts()"
      ]
    },
    {
      "cell_type": "code",
      "execution_count": null,
      "id": "a5727c72",
      "metadata": {
        "id": "a5727c72",
        "outputId": "310cd06a-09bd-4daf-bb3c-d82470f1f55a"
      },
      "outputs": [
        {
          "name": "stdout",
          "output_type": "stream",
          "text": [
            "0.000251468734577894 % transaction is flagged as fraud\n"
          ]
        }
      ],
      "source": [
        "a = 16/(16+6362604)*100\n",
        "print(a,\"% transaction is flagged as fraud\")"
      ]
    },
    {
      "cell_type": "code",
      "execution_count": null,
      "id": "59ab1caa",
      "metadata": {
        "id": "59ab1caa",
        "outputId": "17db0daf-1b36-4e6f-a9f6-4b48b255bdc2"
      },
      "outputs": [
        {
          "data": {
            "text/plain": [
              "CASH_OUT    2237500\n",
              "PAYMENT     2151495\n",
              "CASH_IN     1399284\n",
              "TRANSFER     532909\n",
              "DEBIT         41432\n",
              "Name: type, dtype: int64"
            ]
          },
          "execution_count": 14,
          "metadata": {},
          "output_type": "execute_result"
        }
      ],
      "source": [
        "fraud.type.value_counts()"
      ]
    },
    {
      "cell_type": "markdown",
      "id": "24e197f4",
      "metadata": {
        "id": "24e197f4"
      },
      "source": [
        "### Multi-collinearity -"
      ]
    },
    {
      "cell_type": "code",
      "execution_count": null,
      "id": "60b858e9",
      "metadata": {
        "id": "60b858e9",
        "outputId": "9531cf2c-06de-4a25-d0cd-461b120bc279"
      },
      "outputs": [
        {
          "data": {
            "text/html": [
              "<div>\n",
              "<style scoped>\n",
              "    .dataframe tbody tr th:only-of-type {\n",
              "        vertical-align: middle;\n",
              "    }\n",
              "\n",
              "    .dataframe tbody tr th {\n",
              "        vertical-align: top;\n",
              "    }\n",
              "\n",
              "    .dataframe thead th {\n",
              "        text-align: right;\n",
              "    }\n",
              "</style>\n",
              "<table border=\"1\" class=\"dataframe\">\n",
              "  <thead>\n",
              "    <tr style=\"text-align: right;\">\n",
              "      <th></th>\n",
              "      <th>step</th>\n",
              "      <th>type</th>\n",
              "      <th>amount</th>\n",
              "      <th>oldbalanceOrg</th>\n",
              "      <th>newbalanceOrig</th>\n",
              "      <th>oldbalanceDest</th>\n",
              "      <th>newbalanceDest</th>\n",
              "    </tr>\n",
              "  </thead>\n",
              "  <tbody>\n",
              "    <tr>\n",
              "      <th>0</th>\n",
              "      <td>1</td>\n",
              "      <td>1</td>\n",
              "      <td>9839.64</td>\n",
              "      <td>170136.0</td>\n",
              "      <td>160296.36</td>\n",
              "      <td>0.0</td>\n",
              "      <td>0.0</td>\n",
              "    </tr>\n",
              "    <tr>\n",
              "      <th>1</th>\n",
              "      <td>1</td>\n",
              "      <td>1</td>\n",
              "      <td>1864.28</td>\n",
              "      <td>21249.0</td>\n",
              "      <td>19384.72</td>\n",
              "      <td>0.0</td>\n",
              "      <td>0.0</td>\n",
              "    </tr>\n",
              "    <tr>\n",
              "      <th>2</th>\n",
              "      <td>1</td>\n",
              "      <td>2</td>\n",
              "      <td>181.00</td>\n",
              "      <td>181.0</td>\n",
              "      <td>0.00</td>\n",
              "      <td>0.0</td>\n",
              "      <td>0.0</td>\n",
              "    </tr>\n",
              "    <tr>\n",
              "      <th>3</th>\n",
              "      <td>1</td>\n",
              "      <td>3</td>\n",
              "      <td>181.00</td>\n",
              "      <td>181.0</td>\n",
              "      <td>0.00</td>\n",
              "      <td>21182.0</td>\n",
              "      <td>0.0</td>\n",
              "    </tr>\n",
              "    <tr>\n",
              "      <th>4</th>\n",
              "      <td>1</td>\n",
              "      <td>1</td>\n",
              "      <td>11668.14</td>\n",
              "      <td>41554.0</td>\n",
              "      <td>29885.86</td>\n",
              "      <td>0.0</td>\n",
              "      <td>0.0</td>\n",
              "    </tr>\n",
              "  </tbody>\n",
              "</table>\n",
              "</div>"
            ],
            "text/plain": [
              "   step  type    amount  oldbalanceOrg  newbalanceOrig  oldbalanceDest  \\\n",
              "0     1     1   9839.64       170136.0       160296.36             0.0   \n",
              "1     1     1   1864.28        21249.0        19384.72             0.0   \n",
              "2     1     2    181.00          181.0            0.00             0.0   \n",
              "3     1     3    181.00          181.0            0.00         21182.0   \n",
              "4     1     1  11668.14        41554.0        29885.86             0.0   \n",
              "\n",
              "   newbalanceDest  \n",
              "0             0.0  \n",
              "1             0.0  \n",
              "2             0.0  \n",
              "3             0.0  \n",
              "4             0.0  "
            ]
          },
          "execution_count": 15,
          "metadata": {},
          "output_type": "execute_result"
        }
      ],
      "source": [
        "df1 = fraud.copy(deep = 'true')\n",
        "df1['type']=df1['type'].map({'PAYMENT':1 ,'TRANSFER':2, 'CASH_OUT':3, 'DEBIT':4, 'CASH_IN':5})\n",
        "df1 = df1.drop(columns = ['nameOrig','nameDest','isFraud','isFlaggedFraud'])\n",
        "df1.head()"
      ]
    },
    {
      "cell_type": "code",
      "execution_count": null,
      "id": "47583abb",
      "metadata": {
        "id": "47583abb",
        "outputId": "ae53ef12-adbe-41a6-b28f-ceefa627b454"
      },
      "outputs": [
        {
          "name": "stdout",
          "output_type": "stream",
          "text": [
            "          feature         VIF\n",
            "0            step    2.466060\n",
            "1            type    3.251976\n",
            "2          amount    4.129854\n",
            "3   oldbalanceOrg  501.282300\n",
            "4  newbalanceOrig  508.906801\n",
            "5  oldbalanceDest   73.377939\n",
            "6  newbalanceDest   84.656570\n"
          ]
        }
      ],
      "source": [
        "#calculating VIf to check the MUlti-collinearity between variables -\n",
        "\n",
        "vif_data = pd.DataFrame()                         \n",
        "vif_data[\"feature\"] = df1.columns\n",
        "vif_data[\"VIF\"] = [variance_inflation_factor(df1.values, i)\n",
        "                          for i in range(len(df1.columns))]\n",
        "print(vif_data)\n"
      ]
    },
    {
      "cell_type": "code",
      "execution_count": null,
      "id": "a908fb8b",
      "metadata": {
        "id": "a908fb8b",
        "outputId": "4a37817f-c7f2-48ad-dbd7-b27ffbee4115"
      },
      "outputs": [
        {
          "data": {
            "image/png": "[encoded data removed]",
            "text/plain": [
              "<Figure size 1080x720 with 2 Axes>"
            ]
          },
          "metadata": {
            "needs_background": "light"
          },
          "output_type": "display_data"
        }
      ],
      "source": [
        "##cmap stands for colormap and it's a colormap instance or registered colormap name\n",
        "plt.figure(figsize=(15, 10))\n",
        "plt.title(\"Correlation between the feature\")\n",
        "sns.heatmap(df1.corr(), annot=True, fmt= '.1f', cmap=\"BrBG\")\n",
        "sns.set(font_scale=2.25)\n",
        "plt.show()"
      ]
    },
    {
      "cell_type": "markdown",
      "id": "ebbfb4fb",
      "metadata": {
        "id": "ebbfb4fb"
      },
      "source": [
        "*  **As we can see, oldbalance and newbalance have very high values of VIF,It can be seen from heatmap indicating that these two variables are highly correlated. This is expected as the transaction happens does changes their values. Hence, considering these two features together leads to a model with high multicollinearity.**"
      ]
    },
    {
      "cell_type": "markdown",
      "id": "ad94c1bf",
      "metadata": {
        "id": "ad94c1bf"
      },
      "source": [
        "# "
      ]
    },
    {
      "cell_type": "markdown",
      "id": "c15893ea",
      "metadata": {
        "id": "c15893ea"
      },
      "source": [
        "### 1. which type of transactions are fraud using isFraud -\n",
        "There are 2 flags From those,isFraud is the indicator which indicates the actual fraud transactions whereas isFlaggedFraud is what the system prevents the transaction due to some thresholds being triggered.\n"
      ]
    },
    {
      "cell_type": "code",
      "execution_count": null,
      "id": "06c670a7",
      "metadata": {
        "id": "06c670a7",
        "outputId": "4726e566-5f9a-4560-961a-5f8fd787773d"
      },
      "outputs": [
        {
          "data": {
            "text/html": [
              "<div>\n",
              "<style scoped>\n",
              "    .dataframe tbody tr th:only-of-type {\n",
              "        vertical-align: middle;\n",
              "    }\n",
              "\n",
              "    .dataframe tbody tr th {\n",
              "        vertical-align: top;\n",
              "    }\n",
              "\n",
              "    .dataframe thead th {\n",
              "        text-align: right;\n",
              "    }\n",
              "</style>\n",
              "<table border=\"1\" class=\"dataframe\">\n",
              "  <thead>\n",
              "    <tr style=\"text-align: right;\">\n",
              "      <th></th>\n",
              "      <th>step</th>\n",
              "      <th>type</th>\n",
              "      <th>amount</th>\n",
              "      <th>nameOrig</th>\n",
              "      <th>oldbalanceOrg</th>\n",
              "      <th>newbalanceOrig</th>\n",
              "      <th>nameDest</th>\n",
              "      <th>oldbalanceDest</th>\n",
              "      <th>newbalanceDest</th>\n",
              "      <th>isFraud</th>\n",
              "      <th>isFlaggedFraud</th>\n",
              "    </tr>\n",
              "  </thead>\n",
              "  <tbody>\n",
              "    <tr>\n",
              "      <th>0</th>\n",
              "      <td>1</td>\n",
              "      <td>PAYMENT</td>\n",
              "      <td>9839.64</td>\n",
              "      <td>C1231006815</td>\n",
              "      <td>170136.0</td>\n",
              "      <td>160296.36</td>\n",
              "      <td>M1979787155</td>\n",
              "      <td>0.0</td>\n",
              "      <td>0.0</td>\n",
              "      <td>0</td>\n",
              "      <td>0</td>\n",
              "    </tr>\n",
              "  </tbody>\n",
              "</table>\n",
              "</div>"
            ],
            "text/plain": [
              "   step     type   amount     nameOrig  oldbalanceOrg  newbalanceOrig  \\\n",
              "0     1  PAYMENT  9839.64  C1231006815       170136.0       160296.36   \n",
              "\n",
              "      nameDest  oldbalanceDest  newbalanceDest  isFraud  isFlaggedFraud  \n",
              "0  M1979787155             0.0             0.0        0               0  "
            ]
          },
          "execution_count": 18,
          "metadata": {},
          "output_type": "execute_result"
        }
      ],
      "source": [
        "fraud.head(1)"
      ]
    },
    {
      "cell_type": "code",
      "execution_count": null,
      "id": "4391775a",
      "metadata": {
        "id": "4391775a",
        "outputId": "fafca4af-4f1c-4162-c856-c20d3827aaa8"
      },
      "outputs": [
        {
          "name": "stdout",
          "output_type": "stream",
          "text": [
            "Type of transaction which are fraud:--> ['TRANSFER' 'CASH_OUT']\n",
            "Type of TRANSFER transaction which are fraud:--> 4097\n",
            "Type of CASH_OUT transaction which are fraud:--> 4116\n"
          ]
        }
      ],
      "source": [
        "print(\"Type of transaction which are fraud:-->\",fraud[fraud.isFraud==1].type.drop_duplicates().values)\n",
        "\n",
        "print(\"Type of TRANSFER transaction which are fraud:-->\",fraud[(fraud.isFraud==1) & (fraud.type ==\"TRANSFER\" )].shape[0])\n",
        "\n",
        "print(\"Type of CASH_OUT transaction which are fraud:-->\",fraud[(fraud.isFraud==1) & (fraud.type ==\"CASH_OUT\" )].shape[0])"
      ]
    },
    {
      "cell_type": "code",
      "execution_count": null,
      "id": "1f2d2c48",
      "metadata": {
        "id": "1f2d2c48"
      },
      "outputs": [],
      "source": []
    },
    {
      "cell_type": "markdown",
      "id": "bd246e5d",
      "metadata": {
        "id": "bd246e5d"
      },
      "source": [
        "### 2. Analysis on isFlaggedFraud variable -\n",
        "\n",
        "isFlaggedFraud = The business model aims to control massive transfers from one account to another and flags illegal attempts. An illegal attempt in this dataset is an attempt to transfer more than 200.000 in a single transaction."
      ]
    },
    {
      "cell_type": "code",
      "execution_count": null,
      "id": "671204db",
      "metadata": {
        "id": "671204db",
        "outputId": "f8db3653-d39b-4575-9fe5-2d570804c579"
      },
      "outputs": [
        {
          "name": "stdout",
          "output_type": "stream",
          "text": [
            "Total number of transaction which are flagged as Fraud :--> 16\n",
            "Max amount of transaction which are not flagged as Fraud :--> 92445516.64\n",
            "Min amount of transaction which are flagged as Fraud :--> 353874.22\n"
          ]
        }
      ],
      "source": [
        "print(\"Total number of transaction which are flagged as Fraud :-->\",fraud[(fraud.isFlaggedFraud == 1) ].shape[0])\n",
        "\n",
        "print(\"Max amount of transaction which are not flagged as Fraud :-->\",fraud[(fraud.isFlaggedFraud == 0) ].amount.max())\n",
        "\n",
        "print(\"Min amount of transaction which are flagged as Fraud :-->\",fraud[(fraud.isFlaggedFraud == 1) ].amount.min())\n"
      ]
    },
    {
      "cell_type": "markdown",
      "id": "62fe4e90",
      "metadata": {
        "id": "62fe4e90"
      },
      "source": [
        "**isFlaggedFraud variable is set to 1 when transfer is more than 200,000 in single transaction but we can see that from above analysis. This variable is useless because maximum amount transfer in single transcation is 92445516.64 , There are only 16 values where isFlaggedFraud is set so we will drop this feature**. \n"
      ]
    },
    {
      "cell_type": "markdown",
      "id": "5a46967a",
      "metadata": {
        "id": "5a46967a"
      },
      "source": [
        "### 3. oldbalanceDest and newbalanceDest variable -"
      ]
    },
    {
      "cell_type": "markdown",
      "id": "f49832f5",
      "metadata": {
        "id": "f49832f5"
      },
      "source": [
        "* From below analysis we can see that as multiple newbalancedset and oldbalance dest have zero values because the transaction is put on hold & there are no information available for merchants. \n"
      ]
    },
    {
      "cell_type": "code",
      "execution_count": null,
      "id": "5e561525",
      "metadata": {
        "id": "5e561525",
        "outputId": "493a0e43-94a4-4a5e-d001-564ebebc9025"
      },
      "outputs": [
        {
          "name": "stdout",
          "output_type": "stream",
          "text": [
            "number of recipant who have newbalancedest and oldbalancedest is zero:---> 2317282\n"
          ]
        }
      ],
      "source": [
        "print('number of recipant who have newbalancedest and oldbalancedest is zero:--->',fraud[(fraud.newbalanceDest == 0) & (fraud.oldbalanceDest == 0) ].shape[0])"
      ]
    },
    {
      "cell_type": "markdown",
      "id": "ff535df4",
      "metadata": {
        "id": "ff535df4"
      },
      "source": [
        "#### Lets see how many merchants account in originator accounts and does merchants account have fraud transaction ?\n",
        "oldbalanceDest - initial balance recipient before the transaction. Note that there is not information for customers that start with M (Merchants).\n",
        "\n",
        "newbalanceDest - new balance recipient after the transaction. Note that there is not information for customers that start with M (Merchants)."
      ]
    },
    {
      "cell_type": "code",
      "execution_count": null,
      "id": "a05c76d2",
      "metadata": {
        "id": "a05c76d2",
        "outputId": "ea012253-ecf9-40c6-ad0d-06eec65e979d"
      },
      "outputs": [
        {
          "name": "stdout",
          "output_type": "stream",
          "text": [
            "Number of merchants in originator transaction:--> False\n",
            "Number of merchants in destination where type of transaction is TRANSFER:--> False\n",
            "Number of merchants in destination where type of transaction is CASH_OUT:--> False\n"
          ]
        }
      ],
      "source": [
        "print('Number of merchants in originator transaction:-->',fraud.nameOrig.str.contains(\"M\").any())\n",
        "\n",
        "print(\"Number of merchants in destination where type of transaction is TRANSFER:-->\",fraud[(fraud.isFraud==1) & (fraud.type ==\"TRANSFER\" )].nameDest.str.contains(\"M\").any())\n",
        "\n",
        "print(\"Number of merchants in destination where type of transaction is CASH_OUT:-->\",fraud[(fraud.isFraud==1) & (fraud.type ==\"CASH_OUT\" )].nameDest.str.contains(\"M\").any())"
      ]
    },
    {
      "cell_type": "markdown",
      "id": "a72c73c3",
      "metadata": {
        "id": "a72c73c3"
      },
      "source": [
        "##### There are no Merchant account through Fraud transaction is happen so missing information does not affect while building model"
      ]
    },
    {
      "cell_type": "markdown",
      "id": "af3874db",
      "metadata": {
        "id": "af3874db"
      },
      "source": [
        "### Data cleaning -\n",
        "\n",
        "### 3. How did you select variables to be included in the model?"
      ]
    },
    {
      "cell_type": "markdown",
      "id": "2f27556e",
      "metadata": {
        "id": "2f27556e"
      },
      "source": [
        "From above analysis we know that fraud is only occured in 'TRANSFER' and 'CASH_OUT'. so we choose only those type of payment and we will remove Variables -[ nameorig , namedest , isFlaggedFraud ]"
      ]
    },
    {
      "cell_type": "code",
      "execution_count": null,
      "id": "c7a6fd21",
      "metadata": {
        "id": "c7a6fd21",
        "outputId": "0275ee38-0c45-47c9-f863-9e51f7ded8b8"
      },
      "outputs": [
        {
          "data": {
            "text/html": [
              "<div>\n",
              "<style scoped>\n",
              "    .dataframe tbody tr th:only-of-type {\n",
              "        vertical-align: middle;\n",
              "    }\n",
              "\n",
              "    .dataframe tbody tr th {\n",
              "        vertical-align: top;\n",
              "    }\n",
              "\n",
              "    .dataframe thead th {\n",
              "        text-align: right;\n",
              "    }\n",
              "</style>\n",
              "<table border=\"1\" class=\"dataframe\">\n",
              "  <thead>\n",
              "    <tr style=\"text-align: right;\">\n",
              "      <th></th>\n",
              "      <th>step</th>\n",
              "      <th>type</th>\n",
              "      <th>amount</th>\n",
              "      <th>nameOrig</th>\n",
              "      <th>oldbalanceOrg</th>\n",
              "      <th>newbalanceOrig</th>\n",
              "      <th>nameDest</th>\n",
              "      <th>oldbalanceDest</th>\n",
              "      <th>newbalanceDest</th>\n",
              "      <th>isFraud</th>\n",
              "      <th>isFlaggedFraud</th>\n",
              "    </tr>\n",
              "  </thead>\n",
              "  <tbody>\n",
              "    <tr>\n",
              "      <th>2</th>\n",
              "      <td>1</td>\n",
              "      <td>TRANSFER</td>\n",
              "      <td>181.00</td>\n",
              "      <td>C1305486145</td>\n",
              "      <td>181.00</td>\n",
              "      <td>0.0</td>\n",
              "      <td>C553264065</td>\n",
              "      <td>0.00</td>\n",
              "      <td>0.00</td>\n",
              "      <td>1</td>\n",
              "      <td>0</td>\n",
              "    </tr>\n",
              "    <tr>\n",
              "      <th>19</th>\n",
              "      <td>1</td>\n",
              "      <td>TRANSFER</td>\n",
              "      <td>215310.30</td>\n",
              "      <td>C1670993182</td>\n",
              "      <td>705.00</td>\n",
              "      <td>0.0</td>\n",
              "      <td>C1100439041</td>\n",
              "      <td>22425.00</td>\n",
              "      <td>0.00</td>\n",
              "      <td>0</td>\n",
              "      <td>0</td>\n",
              "    </tr>\n",
              "    <tr>\n",
              "      <th>24</th>\n",
              "      <td>1</td>\n",
              "      <td>TRANSFER</td>\n",
              "      <td>311685.89</td>\n",
              "      <td>C1984094095</td>\n",
              "      <td>10835.00</td>\n",
              "      <td>0.0</td>\n",
              "      <td>C932583850</td>\n",
              "      <td>6267.00</td>\n",
              "      <td>2719172.89</td>\n",
              "      <td>0</td>\n",
              "      <td>0</td>\n",
              "    </tr>\n",
              "    <tr>\n",
              "      <th>58</th>\n",
              "      <td>1</td>\n",
              "      <td>TRANSFER</td>\n",
              "      <td>62610.80</td>\n",
              "      <td>C1976401987</td>\n",
              "      <td>79114.00</td>\n",
              "      <td>16503.2</td>\n",
              "      <td>C1937962514</td>\n",
              "      <td>517.00</td>\n",
              "      <td>8383.29</td>\n",
              "      <td>0</td>\n",
              "      <td>0</td>\n",
              "    </tr>\n",
              "    <tr>\n",
              "      <th>78</th>\n",
              "      <td>1</td>\n",
              "      <td>TRANSFER</td>\n",
              "      <td>42712.39</td>\n",
              "      <td>C283039401</td>\n",
              "      <td>10363.39</td>\n",
              "      <td>0.0</td>\n",
              "      <td>C1330106945</td>\n",
              "      <td>57901.66</td>\n",
              "      <td>24044.18</td>\n",
              "      <td>0</td>\n",
              "      <td>0</td>\n",
              "    </tr>\n",
              "    <tr>\n",
              "      <th>...</th>\n",
              "      <td>...</td>\n",
              "      <td>...</td>\n",
              "      <td>...</td>\n",
              "      <td>...</td>\n",
              "      <td>...</td>\n",
              "      <td>...</td>\n",
              "      <td>...</td>\n",
              "      <td>...</td>\n",
              "      <td>...</td>\n",
              "      <td>...</td>\n",
              "      <td>...</td>\n",
              "    </tr>\n",
              "    <tr>\n",
              "      <th>6362610</th>\n",
              "      <td>742</td>\n",
              "      <td>TRANSFER</td>\n",
              "      <td>63416.99</td>\n",
              "      <td>C778071008</td>\n",
              "      <td>63416.99</td>\n",
              "      <td>0.0</td>\n",
              "      <td>C1812552860</td>\n",
              "      <td>0.00</td>\n",
              "      <td>0.00</td>\n",
              "      <td>1</td>\n",
              "      <td>0</td>\n",
              "    </tr>\n",
              "    <tr>\n",
              "      <th>6362612</th>\n",
              "      <td>743</td>\n",
              "      <td>TRANSFER</td>\n",
              "      <td>1258818.82</td>\n",
              "      <td>C1531301470</td>\n",
              "      <td>1258818.82</td>\n",
              "      <td>0.0</td>\n",
              "      <td>C1470998563</td>\n",
              "      <td>0.00</td>\n",
              "      <td>0.00</td>\n",
              "      <td>1</td>\n",
              "      <td>0</td>\n",
              "    </tr>\n",
              "    <tr>\n",
              "      <th>6362614</th>\n",
              "      <td>743</td>\n",
              "      <td>TRANSFER</td>\n",
              "      <td>339682.13</td>\n",
              "      <td>C2013999242</td>\n",
              "      <td>339682.13</td>\n",
              "      <td>0.0</td>\n",
              "      <td>C1850423904</td>\n",
              "      <td>0.00</td>\n",
              "      <td>0.00</td>\n",
              "      <td>1</td>\n",
              "      <td>0</td>\n",
              "    </tr>\n",
              "    <tr>\n",
              "      <th>6362616</th>\n",
              "      <td>743</td>\n",
              "      <td>TRANSFER</td>\n",
              "      <td>6311409.28</td>\n",
              "      <td>C1529008245</td>\n",
              "      <td>6311409.28</td>\n",
              "      <td>0.0</td>\n",
              "      <td>C1881841831</td>\n",
              "      <td>0.00</td>\n",
              "      <td>0.00</td>\n",
              "      <td>1</td>\n",
              "      <td>0</td>\n",
              "    </tr>\n",
              "    <tr>\n",
              "      <th>6362618</th>\n",
              "      <td>743</td>\n",
              "      <td>TRANSFER</td>\n",
              "      <td>850002.52</td>\n",
              "      <td>C1685995037</td>\n",
              "      <td>850002.52</td>\n",
              "      <td>0.0</td>\n",
              "      <td>C2080388513</td>\n",
              "      <td>0.00</td>\n",
              "      <td>0.00</td>\n",
              "      <td>1</td>\n",
              "      <td>0</td>\n",
              "    </tr>\n",
              "  </tbody>\n",
              "</table>\n",
              "<p>532909 rows × 11 columns</p>\n",
              "</div>"
            ],
            "text/plain": [
              "         step      type      amount     nameOrig  oldbalanceOrg  \\\n",
              "2           1  TRANSFER      181.00  C1305486145         181.00   \n",
              "19          1  TRANSFER   215310.30  C1670993182         705.00   \n",
              "24          1  TRANSFER   311685.89  C1984094095       10835.00   \n",
              "58          1  TRANSFER    62610.80  C1976401987       79114.00   \n",
              "78          1  TRANSFER    42712.39   C283039401       10363.39   \n",
              "...       ...       ...         ...          ...            ...   \n",
              "6362610   742  TRANSFER    63416.99   C778071008       63416.99   \n",
              "6362612   743  TRANSFER  1258818.82  C1531301470     1258818.82   \n",
              "6362614   743  TRANSFER   339682.13  C2013999242      339682.13   \n",
              "6362616   743  TRANSFER  6311409.28  C1529008245     6311409.28   \n",
              "6362618   743  TRANSFER   850002.52  C1685995037      850002.52   \n",
              "\n",
              "         newbalanceOrig     nameDest  oldbalanceDest  newbalanceDest  isFraud  \\\n",
              "2                   0.0   C553264065            0.00            0.00        1   \n",
              "19                  0.0  C1100439041        22425.00            0.00        0   \n",
              "24                  0.0   C932583850         6267.00      2719172.89        0   \n",
              "58              16503.2  C1937962514          517.00         8383.29        0   \n",
              "78                  0.0  C1330106945        57901.66        24044.18        0   \n",
              "...                 ...          ...             ...             ...      ...   \n",
              "6362610             0.0  C1812552860            0.00            0.00        1   \n",
              "6362612             0.0  C1470998563            0.00            0.00        1   \n",
              "6362614             0.0  C1850423904            0.00            0.00        1   \n",
              "6362616             0.0  C1881841831            0.00            0.00        1   \n",
              "6362618             0.0  C2080388513            0.00            0.00        1   \n",
              "\n",
              "         isFlaggedFraud  \n",
              "2                     0  \n",
              "19                    0  \n",
              "24                    0  \n",
              "58                    0  \n",
              "78                    0  \n",
              "...                 ...  \n",
              "6362610               0  \n",
              "6362612               0  \n",
              "6362614               0  \n",
              "6362616               0  \n",
              "6362618               0  \n",
              "\n",
              "[532909 rows x 11 columns]"
            ]
          },
          "execution_count": 23,
          "metadata": {},
          "output_type": "execute_result"
        }
      ],
      "source": [
        "fraud[(fraud.type == \"TRANSFER\") ]"
      ]
    },
    {
      "cell_type": "code",
      "execution_count": null,
      "id": "9528d155",
      "metadata": {
        "id": "9528d155"
      },
      "outputs": [],
      "source": []
    },
    {
      "cell_type": "code",
      "execution_count": null,
      "id": "f228973c",
      "metadata": {
        "id": "f228973c"
      },
      "outputs": [],
      "source": [
        "x = fraud.loc[(fraud.type == 'TRANSFER') | (fraud.type == 'CASH_OUT')]\n",
        "y = x.isFraud\n",
        "x = x.drop(['isFraud','isFlaggedFraud','nameOrig','nameDest'],axis = 1)\n",
        "x['type']= x['type'].map({'TRANSFER':1,'CASH_OUT':2})"
      ]
    },
    {
      "cell_type": "code",
      "execution_count": null,
      "id": "7b1a1bb2",
      "metadata": {
        "id": "7b1a1bb2",
        "outputId": "3dcfab7f-b381-4d38-b056-8eed31c3b5c6"
      },
      "outputs": [
        {
          "data": {
            "text/html": [
              "<div>\n",
              "<style scoped>\n",
              "    .dataframe tbody tr th:only-of-type {\n",
              "        vertical-align: middle;\n",
              "    }\n",
              "\n",
              "    .dataframe tbody tr th {\n",
              "        vertical-align: top;\n",
              "    }\n",
              "\n",
              "    .dataframe thead th {\n",
              "        text-align: right;\n",
              "    }\n",
              "</style>\n",
              "<table border=\"1\" class=\"dataframe\">\n",
              "  <thead>\n",
              "    <tr style=\"text-align: right;\">\n",
              "      <th></th>\n",
              "      <th>step</th>\n",
              "      <th>type</th>\n",
              "      <th>amount</th>\n",
              "      <th>oldbalanceOrg</th>\n",
              "      <th>newbalanceOrig</th>\n",
              "      <th>oldbalanceDest</th>\n",
              "      <th>newbalanceDest</th>\n",
              "    </tr>\n",
              "  </thead>\n",
              "  <tbody>\n",
              "    <tr>\n",
              "      <th>2</th>\n",
              "      <td>1</td>\n",
              "      <td>1</td>\n",
              "      <td>181.00</td>\n",
              "      <td>181.00</td>\n",
              "      <td>0.0</td>\n",
              "      <td>0.00</td>\n",
              "      <td>0.00</td>\n",
              "    </tr>\n",
              "    <tr>\n",
              "      <th>3</th>\n",
              "      <td>1</td>\n",
              "      <td>2</td>\n",
              "      <td>181.00</td>\n",
              "      <td>181.00</td>\n",
              "      <td>0.0</td>\n",
              "      <td>21182.00</td>\n",
              "      <td>0.00</td>\n",
              "    </tr>\n",
              "    <tr>\n",
              "      <th>15</th>\n",
              "      <td>1</td>\n",
              "      <td>2</td>\n",
              "      <td>229133.94</td>\n",
              "      <td>15325.00</td>\n",
              "      <td>0.0</td>\n",
              "      <td>5083.00</td>\n",
              "      <td>51513.44</td>\n",
              "    </tr>\n",
              "    <tr>\n",
              "      <th>19</th>\n",
              "      <td>1</td>\n",
              "      <td>1</td>\n",
              "      <td>215310.30</td>\n",
              "      <td>705.00</td>\n",
              "      <td>0.0</td>\n",
              "      <td>22425.00</td>\n",
              "      <td>0.00</td>\n",
              "    </tr>\n",
              "    <tr>\n",
              "      <th>24</th>\n",
              "      <td>1</td>\n",
              "      <td>1</td>\n",
              "      <td>311685.89</td>\n",
              "      <td>10835.00</td>\n",
              "      <td>0.0</td>\n",
              "      <td>6267.00</td>\n",
              "      <td>2719172.89</td>\n",
              "    </tr>\n",
              "    <tr>\n",
              "      <th>...</th>\n",
              "      <td>...</td>\n",
              "      <td>...</td>\n",
              "      <td>...</td>\n",
              "      <td>...</td>\n",
              "      <td>...</td>\n",
              "      <td>...</td>\n",
              "      <td>...</td>\n",
              "    </tr>\n",
              "    <tr>\n",
              "      <th>6362615</th>\n",
              "      <td>743</td>\n",
              "      <td>2</td>\n",
              "      <td>339682.13</td>\n",
              "      <td>339682.13</td>\n",
              "      <td>0.0</td>\n",
              "      <td>0.00</td>\n",
              "      <td>339682.13</td>\n",
              "    </tr>\n",
              "    <tr>\n",
              "      <th>6362616</th>\n",
              "      <td>743</td>\n",
              "      <td>1</td>\n",
              "      <td>6311409.28</td>\n",
              "      <td>6311409.28</td>\n",
              "      <td>0.0</td>\n",
              "      <td>0.00</td>\n",
              "      <td>0.00</td>\n",
              "    </tr>\n",
              "    <tr>\n",
              "      <th>6362617</th>\n",
              "      <td>743</td>\n",
              "      <td>2</td>\n",
              "      <td>6311409.28</td>\n",
              "      <td>6311409.28</td>\n",
              "      <td>0.0</td>\n",
              "      <td>68488.84</td>\n",
              "      <td>6379898.11</td>\n",
              "    </tr>\n",
              "    <tr>\n",
              "      <th>6362618</th>\n",
              "      <td>743</td>\n",
              "      <td>1</td>\n",
              "      <td>850002.52</td>\n",
              "      <td>850002.52</td>\n",
              "      <td>0.0</td>\n",
              "      <td>0.00</td>\n",
              "      <td>0.00</td>\n",
              "    </tr>\n",
              "    <tr>\n",
              "      <th>6362619</th>\n",
              "      <td>743</td>\n",
              "      <td>2</td>\n",
              "      <td>850002.52</td>\n",
              "      <td>850002.52</td>\n",
              "      <td>0.0</td>\n",
              "      <td>6510099.11</td>\n",
              "      <td>7360101.63</td>\n",
              "    </tr>\n",
              "  </tbody>\n",
              "</table>\n",
              "<p>2770409 rows × 7 columns</p>\n",
              "</div>"
            ],
            "text/plain": [
              "         step  type      amount  oldbalanceOrg  newbalanceOrig  \\\n",
              "2           1     1      181.00         181.00             0.0   \n",
              "3           1     2      181.00         181.00             0.0   \n",
              "15          1     2   229133.94       15325.00             0.0   \n",
              "19          1     1   215310.30         705.00             0.0   \n",
              "24          1     1   311685.89       10835.00             0.0   \n",
              "...       ...   ...         ...            ...             ...   \n",
              "6362615   743     2   339682.13      339682.13             0.0   \n",
              "6362616   743     1  6311409.28     6311409.28             0.0   \n",
              "6362617   743     2  6311409.28     6311409.28             0.0   \n",
              "6362618   743     1   850002.52      850002.52             0.0   \n",
              "6362619   743     2   850002.52      850002.52             0.0   \n",
              "\n",
              "         oldbalanceDest  newbalanceDest  \n",
              "2                  0.00            0.00  \n",
              "3              21182.00            0.00  \n",
              "15              5083.00        51513.44  \n",
              "19             22425.00            0.00  \n",
              "24              6267.00      2719172.89  \n",
              "...                 ...             ...  \n",
              "6362615            0.00       339682.13  \n",
              "6362616            0.00            0.00  \n",
              "6362617        68488.84      6379898.11  \n",
              "6362618            0.00            0.00  \n",
              "6362619      6510099.11      7360101.63  \n",
              "\n",
              "[2770409 rows x 7 columns]"
            ]
          },
          "execution_count": 25,
          "metadata": {},
          "output_type": "execute_result"
        }
      ],
      "source": [
        "x"
      ]
    },
    {
      "cell_type": "markdown",
      "id": "3eb0e80e",
      "metadata": {
        "id": "3eb0e80e"
      },
      "source": [
        "#### Replacing missing values - \n",
        "* There are transactions where newbalanceorig and oldbalanceorig is zero while amount is non zero so we replace them with np.nan.\n",
        "* There are newblancedest and oldbalancedest values are equal to zero but we can not inpute them because they shows the fraud transaction occured when amount is non zero instead of inputing them by 0 = -1"
      ]
    },
    {
      "cell_type": "code",
      "execution_count": null,
      "id": "22c1c370",
      "metadata": {
        "id": "22c1c370"
      },
      "outputs": [],
      "source": [
        "x.loc[(x.newbalanceOrig == 0) & (x.oldbalanceOrg == 0) & (x.amount != 0),['newbalanceOrig','oldbalanceOrg'] ] = 0"
      ]
    },
    {
      "cell_type": "code",
      "execution_count": null,
      "id": "4c84fdf6",
      "metadata": {
        "id": "4c84fdf6"
      },
      "outputs": [],
      "source": [
        "x.loc[(x.newbalanceDest == 0) & (x.oldbalanceDest == 0) & (x.amount != 0) ,['oldbalancedest','newbalancedest'] ] = -1"
      ]
    },
    {
      "cell_type": "code",
      "execution_count": null,
      "id": "5f33f276",
      "metadata": {
        "id": "5f33f276",
        "outputId": "a1acfcf9-338f-4f8e-a0ce-ec1c5f060176"
      },
      "outputs": [
        {
          "data": {
            "text/html": [
              "<div>\n",
              "<style scoped>\n",
              "    .dataframe tbody tr th:only-of-type {\n",
              "        vertical-align: middle;\n",
              "    }\n",
              "\n",
              "    .dataframe tbody tr th {\n",
              "        vertical-align: top;\n",
              "    }\n",
              "\n",
              "    .dataframe thead th {\n",
              "        text-align: right;\n",
              "    }\n",
              "</style>\n",
              "<table border=\"1\" class=\"dataframe\">\n",
              "  <thead>\n",
              "    <tr style=\"text-align: right;\">\n",
              "      <th></th>\n",
              "      <th>step</th>\n",
              "      <th>type</th>\n",
              "      <th>amount</th>\n",
              "      <th>oldbalanceOrg</th>\n",
              "      <th>newbalanceOrig</th>\n",
              "      <th>oldbalanceDest</th>\n",
              "      <th>newbalanceDest</th>\n",
              "      <th>oldbalancedest</th>\n",
              "      <th>newbalancedest</th>\n",
              "    </tr>\n",
              "  </thead>\n",
              "  <tbody>\n",
              "    <tr>\n",
              "      <th>2</th>\n",
              "      <td>1</td>\n",
              "      <td>1</td>\n",
              "      <td>181.00</td>\n",
              "      <td>181.00</td>\n",
              "      <td>0.0</td>\n",
              "      <td>0.0</td>\n",
              "      <td>0.0</td>\n",
              "      <td>-1.0</td>\n",
              "      <td>-1.0</td>\n",
              "    </tr>\n",
              "    <tr>\n",
              "      <th>251</th>\n",
              "      <td>1</td>\n",
              "      <td>1</td>\n",
              "      <td>2806.00</td>\n",
              "      <td>2806.00</td>\n",
              "      <td>0.0</td>\n",
              "      <td>0.0</td>\n",
              "      <td>0.0</td>\n",
              "      <td>-1.0</td>\n",
              "      <td>-1.0</td>\n",
              "    </tr>\n",
              "    <tr>\n",
              "      <th>680</th>\n",
              "      <td>1</td>\n",
              "      <td>1</td>\n",
              "      <td>20128.00</td>\n",
              "      <td>20128.00</td>\n",
              "      <td>0.0</td>\n",
              "      <td>0.0</td>\n",
              "      <td>0.0</td>\n",
              "      <td>-1.0</td>\n",
              "      <td>-1.0</td>\n",
              "    </tr>\n",
              "    <tr>\n",
              "      <th>969</th>\n",
              "      <td>1</td>\n",
              "      <td>1</td>\n",
              "      <td>1277212.77</td>\n",
              "      <td>1277212.77</td>\n",
              "      <td>0.0</td>\n",
              "      <td>0.0</td>\n",
              "      <td>0.0</td>\n",
              "      <td>-1.0</td>\n",
              "      <td>-1.0</td>\n",
              "    </tr>\n",
              "    <tr>\n",
              "      <th>1115</th>\n",
              "      <td>1</td>\n",
              "      <td>1</td>\n",
              "      <td>35063.63</td>\n",
              "      <td>35063.63</td>\n",
              "      <td>0.0</td>\n",
              "      <td>0.0</td>\n",
              "      <td>0.0</td>\n",
              "      <td>-1.0</td>\n",
              "      <td>-1.0</td>\n",
              "    </tr>\n",
              "    <tr>\n",
              "      <th>...</th>\n",
              "      <td>...</td>\n",
              "      <td>...</td>\n",
              "      <td>...</td>\n",
              "      <td>...</td>\n",
              "      <td>...</td>\n",
              "      <td>...</td>\n",
              "      <td>...</td>\n",
              "      <td>...</td>\n",
              "      <td>...</td>\n",
              "    </tr>\n",
              "    <tr>\n",
              "      <th>6362610</th>\n",
              "      <td>742</td>\n",
              "      <td>1</td>\n",
              "      <td>63416.99</td>\n",
              "      <td>63416.99</td>\n",
              "      <td>0.0</td>\n",
              "      <td>0.0</td>\n",
              "      <td>0.0</td>\n",
              "      <td>-1.0</td>\n",
              "      <td>-1.0</td>\n",
              "    </tr>\n",
              "    <tr>\n",
              "      <th>6362612</th>\n",
              "      <td>743</td>\n",
              "      <td>1</td>\n",
              "      <td>1258818.82</td>\n",
              "      <td>1258818.82</td>\n",
              "      <td>0.0</td>\n",
              "      <td>0.0</td>\n",
              "      <td>0.0</td>\n",
              "      <td>-1.0</td>\n",
              "      <td>-1.0</td>\n",
              "    </tr>\n",
              "    <tr>\n",
              "      <th>6362614</th>\n",
              "      <td>743</td>\n",
              "      <td>1</td>\n",
              "      <td>339682.13</td>\n",
              "      <td>339682.13</td>\n",
              "      <td>0.0</td>\n",
              "      <td>0.0</td>\n",
              "      <td>0.0</td>\n",
              "      <td>-1.0</td>\n",
              "      <td>-1.0</td>\n",
              "    </tr>\n",
              "    <tr>\n",
              "      <th>6362616</th>\n",
              "      <td>743</td>\n",
              "      <td>1</td>\n",
              "      <td>6311409.28</td>\n",
              "      <td>6311409.28</td>\n",
              "      <td>0.0</td>\n",
              "      <td>0.0</td>\n",
              "      <td>0.0</td>\n",
              "      <td>-1.0</td>\n",
              "      <td>-1.0</td>\n",
              "    </tr>\n",
              "    <tr>\n",
              "      <th>6362618</th>\n",
              "      <td>743</td>\n",
              "      <td>1</td>\n",
              "      <td>850002.52</td>\n",
              "      <td>850002.52</td>\n",
              "      <td>0.0</td>\n",
              "      <td>0.0</td>\n",
              "      <td>0.0</td>\n",
              "      <td>-1.0</td>\n",
              "      <td>-1.0</td>\n",
              "    </tr>\n",
              "  </tbody>\n",
              "</table>\n",
              "<p>5776 rows × 9 columns</p>\n",
              "</div>"
            ],
            "text/plain": [
              "         step  type      amount  oldbalanceOrg  newbalanceOrig  \\\n",
              "2           1     1      181.00         181.00             0.0   \n",
              "251         1     1     2806.00        2806.00             0.0   \n",
              "680         1     1    20128.00       20128.00             0.0   \n",
              "969         1     1  1277212.77     1277212.77             0.0   \n",
              "1115        1     1    35063.63       35063.63             0.0   \n",
              "...       ...   ...         ...            ...             ...   \n",
              "6362610   742     1    63416.99       63416.99             0.0   \n",
              "6362612   743     1  1258818.82     1258818.82             0.0   \n",
              "6362614   743     1   339682.13      339682.13             0.0   \n",
              "6362616   743     1  6311409.28     6311409.28             0.0   \n",
              "6362618   743     1   850002.52      850002.52             0.0   \n",
              "\n",
              "         oldbalanceDest  newbalanceDest  oldbalancedest  newbalancedest  \n",
              "2                   0.0             0.0            -1.0            -1.0  \n",
              "251                 0.0             0.0            -1.0            -1.0  \n",
              "680                 0.0             0.0            -1.0            -1.0  \n",
              "969                 0.0             0.0            -1.0            -1.0  \n",
              "1115                0.0             0.0            -1.0            -1.0  \n",
              "...                 ...             ...             ...             ...  \n",
              "6362610             0.0             0.0            -1.0            -1.0  \n",
              "6362612             0.0             0.0            -1.0            -1.0  \n",
              "6362614             0.0             0.0            -1.0            -1.0  \n",
              "6362616             0.0             0.0            -1.0            -1.0  \n",
              "6362618             0.0             0.0            -1.0            -1.0  \n",
              "\n",
              "[5776 rows x 9 columns]"
            ]
          },
          "execution_count": 28,
          "metadata": {},
          "output_type": "execute_result"
        }
      ],
      "source": [
        "x.loc[(x.newbalanceDest == 0) & (x.oldbalanceDest == 0) & (x.amount != 0)] "
      ]
    },
    {
      "cell_type": "markdown",
      "id": "41ae6ba6",
      "metadata": {
        "id": "41ae6ba6"
      },
      "source": [
        "#### Feature engineering -\n",
        "**From above analysis we can create two features of error at origin and destination account, where non zero amount is transfer but oldbalance and new balance have zero value**"
      ]
    },
    {
      "cell_type": "code",
      "execution_count": null,
      "id": "d024354f",
      "metadata": {
        "id": "d024354f"
      },
      "outputs": [],
      "source": [
        "x['Error_Balance_Orig'] = x.newbalanceOrig + x.amount - x.newbalanceOrig   # eg origin- oldbal = 10 ,newbal = 8 ,amount = 2 so, error =  8+2-10 = 0 \n",
        "x['Error_Balance_Dest'] = x.oldbalanceDest + x.amount - x.newbalanceDest   #eg - at dest its opposite , old bal = 8 ,new bal = 10 , amount = 2 :error = 8+2-10 = 0"
      ]
    },
    {
      "cell_type": "code",
      "execution_count": null,
      "id": "08d9cb29",
      "metadata": {
        "id": "08d9cb29",
        "outputId": "78244ecf-aab1-4ffd-d8b3-76f46a8d19d6"
      },
      "outputs": [
        {
          "data": {
            "text/html": [
              "<div>\n",
              "<style scoped>\n",
              "    .dataframe tbody tr th:only-of-type {\n",
              "        vertical-align: middle;\n",
              "    }\n",
              "\n",
              "    .dataframe tbody tr th {\n",
              "        vertical-align: top;\n",
              "    }\n",
              "\n",
              "    .dataframe thead th {\n",
              "        text-align: right;\n",
              "    }\n",
              "</style>\n",
              "<table border=\"1\" class=\"dataframe\">\n",
              "  <thead>\n",
              "    <tr style=\"text-align: right;\">\n",
              "      <th></th>\n",
              "      <th>step</th>\n",
              "      <th>type</th>\n",
              "      <th>amount</th>\n",
              "      <th>oldbalanceOrg</th>\n",
              "      <th>newbalanceOrig</th>\n",
              "      <th>oldbalanceDest</th>\n",
              "      <th>newbalanceDest</th>\n",
              "      <th>oldbalancedest</th>\n",
              "      <th>newbalancedest</th>\n",
              "      <th>Error_Balance_Orig</th>\n",
              "      <th>Error_Balance_Dest</th>\n",
              "    </tr>\n",
              "  </thead>\n",
              "  <tbody>\n",
              "    <tr>\n",
              "      <th>2</th>\n",
              "      <td>1</td>\n",
              "      <td>1</td>\n",
              "      <td>181.00</td>\n",
              "      <td>181.00</td>\n",
              "      <td>0.0</td>\n",
              "      <td>0.00</td>\n",
              "      <td>0.00</td>\n",
              "      <td>-1.0</td>\n",
              "      <td>-1.0</td>\n",
              "      <td>181.00</td>\n",
              "      <td>1.810000e+02</td>\n",
              "    </tr>\n",
              "    <tr>\n",
              "      <th>3</th>\n",
              "      <td>1</td>\n",
              "      <td>2</td>\n",
              "      <td>181.00</td>\n",
              "      <td>181.00</td>\n",
              "      <td>0.0</td>\n",
              "      <td>21182.00</td>\n",
              "      <td>0.00</td>\n",
              "      <td>NaN</td>\n",
              "      <td>NaN</td>\n",
              "      <td>181.00</td>\n",
              "      <td>2.136300e+04</td>\n",
              "    </tr>\n",
              "    <tr>\n",
              "      <th>15</th>\n",
              "      <td>1</td>\n",
              "      <td>2</td>\n",
              "      <td>229133.94</td>\n",
              "      <td>15325.00</td>\n",
              "      <td>0.0</td>\n",
              "      <td>5083.00</td>\n",
              "      <td>51513.44</td>\n",
              "      <td>NaN</td>\n",
              "      <td>NaN</td>\n",
              "      <td>229133.94</td>\n",
              "      <td>1.827035e+05</td>\n",
              "    </tr>\n",
              "    <tr>\n",
              "      <th>19</th>\n",
              "      <td>1</td>\n",
              "      <td>1</td>\n",
              "      <td>215310.30</td>\n",
              "      <td>705.00</td>\n",
              "      <td>0.0</td>\n",
              "      <td>22425.00</td>\n",
              "      <td>0.00</td>\n",
              "      <td>NaN</td>\n",
              "      <td>NaN</td>\n",
              "      <td>215310.30</td>\n",
              "      <td>2.377353e+05</td>\n",
              "    </tr>\n",
              "    <tr>\n",
              "      <th>24</th>\n",
              "      <td>1</td>\n",
              "      <td>1</td>\n",
              "      <td>311685.89</td>\n",
              "      <td>10835.00</td>\n",
              "      <td>0.0</td>\n",
              "      <td>6267.00</td>\n",
              "      <td>2719172.89</td>\n",
              "      <td>NaN</td>\n",
              "      <td>NaN</td>\n",
              "      <td>311685.89</td>\n",
              "      <td>-2.401220e+06</td>\n",
              "    </tr>\n",
              "    <tr>\n",
              "      <th>...</th>\n",
              "      <td>...</td>\n",
              "      <td>...</td>\n",
              "      <td>...</td>\n",
              "      <td>...</td>\n",
              "      <td>...</td>\n",
              "      <td>...</td>\n",
              "      <td>...</td>\n",
              "      <td>...</td>\n",
              "      <td>...</td>\n",
              "      <td>...</td>\n",
              "      <td>...</td>\n",
              "    </tr>\n",
              "    <tr>\n",
              "      <th>6362615</th>\n",
              "      <td>743</td>\n",
              "      <td>2</td>\n",
              "      <td>339682.13</td>\n",
              "      <td>339682.13</td>\n",
              "      <td>0.0</td>\n",
              "      <td>0.00</td>\n",
              "      <td>339682.13</td>\n",
              "      <td>NaN</td>\n",
              "      <td>NaN</td>\n",
              "      <td>339682.13</td>\n",
              "      <td>0.000000e+00</td>\n",
              "    </tr>\n",
              "    <tr>\n",
              "      <th>6362616</th>\n",
              "      <td>743</td>\n",
              "      <td>1</td>\n",
              "      <td>6311409.28</td>\n",
              "      <td>6311409.28</td>\n",
              "      <td>0.0</td>\n",
              "      <td>0.00</td>\n",
              "      <td>0.00</td>\n",
              "      <td>-1.0</td>\n",
              "      <td>-1.0</td>\n",
              "      <td>6311409.28</td>\n",
              "      <td>6.311409e+06</td>\n",
              "    </tr>\n",
              "    <tr>\n",
              "      <th>6362617</th>\n",
              "      <td>743</td>\n",
              "      <td>2</td>\n",
              "      <td>6311409.28</td>\n",
              "      <td>6311409.28</td>\n",
              "      <td>0.0</td>\n",
              "      <td>68488.84</td>\n",
              "      <td>6379898.11</td>\n",
              "      <td>NaN</td>\n",
              "      <td>NaN</td>\n",
              "      <td>6311409.28</td>\n",
              "      <td>1.000000e-02</td>\n",
              "    </tr>\n",
              "    <tr>\n",
              "      <th>6362618</th>\n",
              "      <td>743</td>\n",
              "      <td>1</td>\n",
              "      <td>850002.52</td>\n",
              "      <td>850002.52</td>\n",
              "      <td>0.0</td>\n",
              "      <td>0.00</td>\n",
              "      <td>0.00</td>\n",
              "      <td>-1.0</td>\n",
              "      <td>-1.0</td>\n",
              "      <td>850002.52</td>\n",
              "      <td>8.500025e+05</td>\n",
              "    </tr>\n",
              "    <tr>\n",
              "      <th>6362619</th>\n",
              "      <td>743</td>\n",
              "      <td>2</td>\n",
              "      <td>850002.52</td>\n",
              "      <td>850002.52</td>\n",
              "      <td>0.0</td>\n",
              "      <td>6510099.11</td>\n",
              "      <td>7360101.63</td>\n",
              "      <td>NaN</td>\n",
              "      <td>NaN</td>\n",
              "      <td>850002.52</td>\n",
              "      <td>9.313226e-10</td>\n",
              "    </tr>\n",
              "  </tbody>\n",
              "</table>\n",
              "<p>2770409 rows × 11 columns</p>\n",
              "</div>"
            ],
            "text/plain": [
              "         step  type      amount  oldbalanceOrg  newbalanceOrig  \\\n",
              "2           1     1      181.00         181.00             0.0   \n",
              "3           1     2      181.00         181.00             0.0   \n",
              "15          1     2   229133.94       15325.00             0.0   \n",
              "19          1     1   215310.30         705.00             0.0   \n",
              "24          1     1   311685.89       10835.00             0.0   \n",
              "...       ...   ...         ...            ...             ...   \n",
              "6362615   743     2   339682.13      339682.13             0.0   \n",
              "6362616   743     1  6311409.28     6311409.28             0.0   \n",
              "6362617   743     2  6311409.28     6311409.28             0.0   \n",
              "6362618   743     1   850002.52      850002.52             0.0   \n",
              "6362619   743     2   850002.52      850002.52             0.0   \n",
              "\n",
              "         oldbalanceDest  newbalanceDest  oldbalancedest  newbalancedest  \\\n",
              "2                  0.00            0.00            -1.0            -1.0   \n",
              "3              21182.00            0.00             NaN             NaN   \n",
              "15              5083.00        51513.44             NaN             NaN   \n",
              "19             22425.00            0.00             NaN             NaN   \n",
              "24              6267.00      2719172.89             NaN             NaN   \n",
              "...                 ...             ...             ...             ...   \n",
              "6362615            0.00       339682.13             NaN             NaN   \n",
              "6362616            0.00            0.00            -1.0            -1.0   \n",
              "6362617        68488.84      6379898.11             NaN             NaN   \n",
              "6362618            0.00            0.00            -1.0            -1.0   \n",
              "6362619      6510099.11      7360101.63             NaN             NaN   \n",
              "\n",
              "         Error_Balance_Orig  Error_Balance_Dest  \n",
              "2                    181.00        1.810000e+02  \n",
              "3                    181.00        2.136300e+04  \n",
              "15                229133.94        1.827035e+05  \n",
              "19                215310.30        2.377353e+05  \n",
              "24                311685.89       -2.401220e+06  \n",
              "...                     ...                 ...  \n",
              "6362615           339682.13        0.000000e+00  \n",
              "6362616          6311409.28        6.311409e+06  \n",
              "6362617          6311409.28        1.000000e-02  \n",
              "6362618           850002.52        8.500025e+05  \n",
              "6362619           850002.52        9.313226e-10  \n",
              "\n",
              "[2770409 rows x 11 columns]"
            ]
          },
          "execution_count": 30,
          "metadata": {},
          "output_type": "execute_result"
        }
      ],
      "source": [
        "x"
      ]
    },
    {
      "cell_type": "markdown",
      "id": "3b2cf2ff",
      "metadata": {
        "id": "3b2cf2ff"
      },
      "source": [
        "### Machine learning for  predicting fraudulent transactions - \n"
      ]
    },
    {
      "cell_type": "markdown",
      "id": "c6a36961",
      "metadata": {
        "id": "c6a36961"
      },
      "source": [
        "* checking if the data is imbalance or skew  -"
      ]
    },
    {
      "cell_type": "code",
      "execution_count": null,
      "id": "34eda1f6",
      "metadata": {
        "id": "34eda1f6"
      },
      "outputs": [],
      "source": [
        "x_fraud = x.loc[y==1]"
      ]
    },
    {
      "cell_type": "code",
      "execution_count": null,
      "id": "85fa4896",
      "metadata": {
        "id": "85fa4896"
      },
      "outputs": [],
      "source": [
        "x_not_fraud = x.loc[y==0]"
      ]
    },
    {
      "cell_type": "code",
      "execution_count": null,
      "id": "28d701f3",
      "metadata": {
        "id": "28d701f3",
        "outputId": "75092114-c1e4-459d-9fc3-3ab6fcb3299a"
      },
      "outputs": [
        {
          "data": {
            "text/plain": [
              "2762196"
            ]
          },
          "execution_count": 43,
          "metadata": {},
          "output_type": "execute_result"
        }
      ],
      "source": [
        "x_not_fraud.shape[0]"
      ]
    },
    {
      "cell_type": "code",
      "execution_count": null,
      "id": "e873bbcc",
      "metadata": {
        "id": "e873bbcc",
        "outputId": "ac6a9586-7f67-49a0-de41-76fbca9cc231"
      },
      "outputs": [
        {
          "data": {
            "text/plain": [
              "8213"
            ]
          },
          "execution_count": 44,
          "metadata": {},
          "output_type": "execute_result"
        }
      ],
      "source": [
        "x_fraud.shape[0]"
      ]
    },
    {
      "cell_type": "markdown",
      "id": "01c5dab7",
      "metadata": {
        "id": "01c5dab7"
      },
      "source": [
        "Data split in (80:20) ratio between train and tesy"
      ]
    },
    {
      "cell_type": "code",
      "execution_count": null,
      "id": "66778630",
      "metadata": {
        "id": "66778630"
      },
      "outputs": [],
      "source": [
        "from sklearn.model_selection import train_test_split"
      ]
    },
    {
      "cell_type": "code",
      "execution_count": null,
      "id": "08442dfc",
      "metadata": {
        "id": "08442dfc"
      },
      "outputs": [],
      "source": [
        "x_train, x_test, y_train, y_test = train_test_split(x, y, test_size=0.20, random_state=27)"
      ]
    },
    {
      "cell_type": "markdown",
      "id": "19d0782c",
      "metadata": {
        "id": "19d0782c"
      },
      "source": [
        "### 2. Describe your fraud detection model in elaboration.\n",
        "* **Selection of ML algorithm**: A first approach to deal with imbalanced data is to balance it by discarding the majority class before applying an ML algorithm. The disadvantage of undersampling is that a model trained in this way will not perform well on real-world skewed test data since almost all the information was discarded. A better approach might be to oversample the minority class, say by the synthetic minority oversampling technique (SMOTE) contained in the 'imblearn' library. Motivated by this, I tried a variety of anomaly-detection and supervised learning approaches. I find, however, that the best result is obtained on the original dataset by using a ML algorithm based on ensembles of decision trees that intrinsically performs well on imbalanced data. Such algorithms not only allow for constructing a model that can cope with the missing values in our data, but they naturally allow for speedup via parallel-processing. Among these algorithms, the extreme gradient-boosted (XGBoost) algorithm used. Finally, XGBoost, like several other ML algorithms, allows for weighting the positive class more compared to the negative class --- a setting that also allows to account for the skew in the data\n",
        "\n",
        "       \n",
        "\n",
        "### 4. Demonstrate the performance of the model by using best set of tools.\n",
        "\n",
        "\n",
        "* **Selection of metric**: Since the data is highly skewed, I use the area under the precision-recall curve (AUPRC) rather than the conventional area under the receiver operating characteristic (AUROC).AUPRC on a dataset with 99% negative 1% positive examples, and it will “focus” on how the model handles the 1% positive examples. If the model handles the positive examples well, AUPRC will be high. If the model does poorly on the positive examples, AUPRC will be low.\n",
        "\n",
        "### 5. What are the key factors that predict fraudulent customer? \n",
        "key factors that predict fraudulent customer are isFraud and amount \n",
        "\n",
        "### 6. Do these factors make sense? If yes, How? If not, How not? \n",
        "yes,they make sense,if the amount is more we can assume it may be fraud and if isfraud is 1, the chances of its isFlaggedFraud is more.\n"
      ]
    },
    {
      "cell_type": "markdown",
      "id": "729719e3",
      "metadata": {
        "id": "729719e3"
      },
      "source": []
    },
    {
      "cell_type": "code",
      "execution_count": null,
      "id": "e8906d6f",
      "metadata": {
        "id": "e8906d6f"
      },
      "outputs": [],
      "source": [
        "from sklearn.metrics import average_precision_score\n",
        "from xgboost.sklearn import XGBClassifier"
      ]
    },
    {
      "cell_type": "code",
      "execution_count": null,
      "id": "337251a7",
      "metadata": {
        "id": "337251a7",
        "outputId": "72e48a60-4fcb-4007-ea3f-54f7a98da9fd"
      },
      "outputs": [
        {
          "name": "stdout",
          "output_type": "stream",
          "text": [
            "AUPRC = 0.9381922450243834\n"
          ]
        }
      ],
      "source": [
        "weights = (y == 0).sum() / (1.0 * (y == 1).sum())                  #xgb uses the scale_pos_weight to account for highly skewed datset\n",
        "clf = XGBClassifier(max_depth = 3, scale_pos_weight = weights,\n",
        "                n_jobs = 4)\n",
        "probabilities = clf.fit(x_train,y_train).predict_proba(x_test)\n",
        "print('AUPRC = {}'.format(average_precision_score(y_test, probabilities[:, 1])))"
      ]
    },
    {
      "cell_type": "markdown",
      "id": "39cbaba9",
      "metadata": {
        "id": "39cbaba9"
      },
      "source": [
        "### SO AUPRC score is 0.93 means our model performing well on positive (fraudlant transaction) class."
      ]
    },
    {
      "cell_type": "code",
      "execution_count": null,
      "id": "54846f5d",
      "metadata": {
        "id": "54846f5d",
        "outputId": "eb0658a3-3ece-4ef1-f2af-0399c7acb255"
      },
      "outputs": [
        {
          "data": {
            "text/plain": [
              "0.98942214329287"
            ]
          },
          "execution_count": 51,
          "metadata": {},
          "output_type": "execute_result"
        }
      ],
      "source": [
        "clf.score(x_test, y_test)"
      ]
    },
    {
      "cell_type": "markdown",
      "id": "b7a8ae52",
      "metadata": {
        "id": "b7a8ae52"
      },
      "source": [
        "### Accuracy of Our model is 98%"
      ]
    },
    {
      "cell_type": "markdown",
      "id": "fd02af26",
      "metadata": {
        "id": "fd02af26"
      },
      "source": [
        "\n",
        "**CONCLUSION** - \n",
        "\n",
        "\n",
        "### 7.What kind of prevention should be adopted while company update its infrastructure?\n",
        "* Company can prevent fraudalnt transaction by focusing more on payment method type - 'Transfer' & 'Cash_out'\n",
        "*  Look Out for Patterns in Fraud and Theft\n",
        "\n",
        "### 8.Assuming these actions have been implemented, how would you determine if they work?\n",
        "* we can retrain & maintain model after certain intervals so our model perform best under various fraudlant transaction. \n",
        "    "
      ]
    },
    {
      "cell_type": "code",
      "execution_count": null,
      "id": "752abf24",
      "metadata": {
        "id": "752abf24"
      },
      "outputs": [],
      "source": []
    }
  ],
  "metadata": {
    "kernelspec": {
      "display_name": "Python 3 (ipykernel)",
      "language": "python",
      "name": "python3"
    },
    "language_info": {
      "codemirror_mode": {
        "name": "ipython",
        "version": 3
      },
      "file_extension": ".py",
      "mimetype": "text/x-python",
      "name": "python",
      "nbconvert_exporter": "python",
      "pygments_lexer": "ipython3",
      "version": "3.9.12"
    },
    "colab": {
      "provenance": [],
      "include_colab_link": true
    }
  },
  "nbformat": 4,
  "nbformat_minor": 5
}